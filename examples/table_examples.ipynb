{
 "cells": [
  {
   "cell_type": "code",
   "execution_count": 1,
   "id": "8589939a-d937-453d-b63b-3e88cf71de5a",
   "metadata": {},
   "outputs": [],
   "source": [
    "import pandas as pd\n",
    "import numpy as np\n",
    "from heavylight import Model\n",
    "import heavytables\n",
    "import seaborn as sns"
   ]
  },
  {
   "cell_type": "markdown",
   "id": "8d47810e-8129-4085-9cdf-ffad0c52fff0",
   "metadata": {},
   "source": [
    "# Table Examples"
   ]
  },
  {
   "cell_type": "markdown",
   "id": "9b7ea4d6-acfd-42de-9dc2-50edb60243d3",
   "metadata": {},
   "source": [
    "## Loading a CMI table (2 integer based keys)"
   ]
  },
  {
   "cell_type": "code",
   "execution_count": 15,
   "id": "f8483ab1-84a7-42f4-a7f6-04442cf8fd19",
   "metadata": {},
   "outputs": [
    {
     "data": {
      "text/html": [
       "<div>\n",
       "<style scoped>\n",
       "    .dataframe tbody tr th:only-of-type {\n",
       "        vertical-align: middle;\n",
       "    }\n",
       "\n",
       "    .dataframe tbody tr th {\n",
       "        vertical-align: top;\n",
       "    }\n",
       "\n",
       "    .dataframe thead th {\n",
       "        text-align: right;\n",
       "    }\n",
       "</style>\n",
       "<table border=\"1\" class=\"dataframe\">\n",
       "  <thead>\n",
       "    <tr style=\"text-align: right;\">\n",
       "      <th></th>\n",
       "      <th>age|int</th>\n",
       "      <th>dur|int</th>\n",
       "      <th>q_x|float</th>\n",
       "    </tr>\n",
       "  </thead>\n",
       "  <tbody>\n",
       "    <tr>\n",
       "      <th>0</th>\n",
       "      <td>18</td>\n",
       "      <td>0</td>\n",
       "      <td>0.000005</td>\n",
       "    </tr>\n",
       "    <tr>\n",
       "      <th>6</th>\n",
       "      <td>19</td>\n",
       "      <td>0</td>\n",
       "      <td>0.000006</td>\n",
       "    </tr>\n",
       "    <tr>\n",
       "      <th>12</th>\n",
       "      <td>20</td>\n",
       "      <td>0</td>\n",
       "      <td>0.000006</td>\n",
       "    </tr>\n",
       "    <tr>\n",
       "      <th>18</th>\n",
       "      <td>21</td>\n",
       "      <td>0</td>\n",
       "      <td>0.000007</td>\n",
       "    </tr>\n",
       "    <tr>\n",
       "      <th>24</th>\n",
       "      <td>22</td>\n",
       "      <td>0</td>\n",
       "      <td>0.000008</td>\n",
       "    </tr>\n",
       "    <tr>\n",
       "      <th>...</th>\n",
       "      <td>...</td>\n",
       "      <td>...</td>\n",
       "      <td>...</td>\n",
       "    </tr>\n",
       "    <tr>\n",
       "      <th>581</th>\n",
       "      <td>114</td>\n",
       "      <td>5</td>\n",
       "      <td>0.201897</td>\n",
       "    </tr>\n",
       "    <tr>\n",
       "      <th>587</th>\n",
       "      <td>115</td>\n",
       "      <td>5</td>\n",
       "      <td>0.223130</td>\n",
       "    </tr>\n",
       "    <tr>\n",
       "      <th>593</th>\n",
       "      <td>116</td>\n",
       "      <td>5</td>\n",
       "      <td>0.246597</td>\n",
       "    </tr>\n",
       "    <tr>\n",
       "      <th>599</th>\n",
       "      <td>117</td>\n",
       "      <td>5</td>\n",
       "      <td>0.272532</td>\n",
       "    </tr>\n",
       "    <tr>\n",
       "      <th>605</th>\n",
       "      <td>118</td>\n",
       "      <td>5</td>\n",
       "      <td>0.301194</td>\n",
       "    </tr>\n",
       "  </tbody>\n",
       "</table>\n",
       "<p>606 rows × 3 columns</p>\n",
       "</div>"
      ],
      "text/plain": [
       "     age|int  dur|int  q_x|float\n",
       "0         18        0   0.000005\n",
       "6         19        0   0.000006\n",
       "12        20        0   0.000006\n",
       "18        21        0   0.000007\n",
       "24        22        0   0.000008\n",
       "..       ...      ...        ...\n",
       "581      114        5   0.201897\n",
       "587      115        5   0.223130\n",
       "593      116        5   0.246597\n",
       "599      117        5   0.272532\n",
       "605      118        5   0.301194\n",
       "\n",
       "[606 rows x 3 columns]"
      ]
     },
     "execution_count": 15,
     "metadata": {},
     "output_type": "execute_result"
    }
   ],
   "source": [
    "# load the mortality table - in this case a CMI like table with fake mortality rates.\n",
    "qx_table = heavytables.Table.read_csv('csv_tables/fake_tmnl16.csv')\n",
    "\n",
    "# view the table - we can view the input dataframe used to populate it\n",
    "qx_table.df"
   ]
  },
  {
   "cell_type": "code",
   "execution_count": 3,
   "id": "70e8c66d-1278-4fb3-bc24-9c8baa9b6b40",
   "metadata": {},
   "outputs": [
    {
     "data": {
      "text/plain": [
       "0.22313016014843"
      ]
     },
     "execution_count": 3,
     "metadata": {},
     "output_type": "execute_result"
    }
   ],
   "source": [
    "# we can do individual value lookups:\n",
    "qx_table[115, 5]"
   ]
  },
  {
   "cell_type": "code",
   "execution_count": 14,
   "id": "2d73ec8b-e9e9-4591-8905-adbbe854a7d5",
   "metadata": {},
   "outputs": [
    {
     "data": {
      "text/plain": [
       "array([0.000005, 0.000015, 0.000011])"
      ]
     },
     "execution_count": 14,
     "metadata": {},
     "output_type": "execute_result"
    }
   ],
   "source": [
    "# we can pull multiple values as arrays\n",
    "ages = np.array([18, 19, 20])\n",
    "durs = np.array([0, 5, 3])\n",
    "qx_table[ages, durs]"
   ]
  },
  {
   "cell_type": "code",
   "execution_count": 23,
   "id": "98e8088a-892f-4213-a02d-46a85f14c178",
   "metadata": {},
   "outputs": [
    {
     "data": {
      "text/plain": [
       "array([0.000005, 0.000015, 0.000011])"
      ]
     },
     "execution_count": 23,
     "metadata": {},
     "output_type": "execute_result"
    }
   ],
   "source": [
    "# as an alternative to [] indexing, you can use .get(keys...)\n",
    "qx_table.get(ages, durs)"
   ]
  },
  {
   "cell_type": "code",
   "execution_count": 5,
   "id": "bddf0232-205e-42e0-806b-04782db0412e",
   "metadata": {},
   "outputs": [
    {
     "data": {
      "text/plain": [
       "array([0.201897, 0.223130, 0.246597, 0.272532])"
      ]
     },
     "execution_count": 5,
     "metadata": {},
     "output_type": "execute_result"
    }
   ],
   "source": [
    "# we can combine these, so either a numpy.ndarray can be supplied, or a python integer\n",
    "qx_table[np.arange(114, 118), 5]"
   ]
  },
  {
   "cell_type": "code",
   "execution_count": 6,
   "id": "9d7f34ca-ffc2-47ec-88d3-1b1bb9f96ee9",
   "metadata": {},
   "outputs": [
    {
     "name": "stdout",
     "output_type": "stream",
     "text": [
      "IndexError('index 8049 is out of bounds for axis 0 with size 606')\n"
     ]
    }
   ],
   "source": [
    "# we get an error if we go out of bounds\n",
    "try:\n",
    "    qx_table[2512, 55]\n",
    "except Exception as err:\n",
    "    print(repr(err))"
   ]
  },
  {
   "cell_type": "code",
   "execution_count": 7,
   "id": "4461a287-99cf-4e25-9421-e48158d69c61",
   "metadata": {},
   "outputs": [
    {
     "data": {
      "text/html": [
       "<div>\n",
       "<style scoped>\n",
       "    .dataframe tbody tr th:only-of-type {\n",
       "        vertical-align: middle;\n",
       "    }\n",
       "\n",
       "    .dataframe tbody tr th {\n",
       "        vertical-align: top;\n",
       "    }\n",
       "\n",
       "    .dataframe thead th {\n",
       "        text-align: right;\n",
       "    }\n",
       "</style>\n",
       "<table border=\"1\" class=\"dataframe\">\n",
       "  <thead>\n",
       "    <tr style=\"text-align: right;\">\n",
       "      <th></th>\n",
       "      <th>age|int</th>\n",
       "      <th>dur|int</th>\n",
       "      <th>q_x|float</th>\n",
       "    </tr>\n",
       "  </thead>\n",
       "  <tbody>\n",
       "    <tr>\n",
       "      <th>13</th>\n",
       "      <td>20</td>\n",
       "      <td>1</td>\n",
       "      <td>0.000008</td>\n",
       "    </tr>\n",
       "    <tr>\n",
       "      <th>338</th>\n",
       "      <td>74</td>\n",
       "      <td>2</td>\n",
       "      <td>0.002029</td>\n",
       "    </tr>\n",
       "    <tr>\n",
       "      <th>570</th>\n",
       "      <td>113</td>\n",
       "      <td>0</td>\n",
       "      <td>0.067206</td>\n",
       "    </tr>\n",
       "    <tr>\n",
       "      <th>428</th>\n",
       "      <td>89</td>\n",
       "      <td>2</td>\n",
       "      <td>0.009095</td>\n",
       "    </tr>\n",
       "    <tr>\n",
       "      <th>182</th>\n",
       "      <td>48</td>\n",
       "      <td>2</td>\n",
       "      <td>0.000151</td>\n",
       "    </tr>\n",
       "    <tr>\n",
       "      <th>...</th>\n",
       "      <td>...</td>\n",
       "      <td>...</td>\n",
       "      <td>...</td>\n",
       "    </tr>\n",
       "    <tr>\n",
       "      <th>404</th>\n",
       "      <td>85</td>\n",
       "      <td>2</td>\n",
       "      <td>0.006097</td>\n",
       "    </tr>\n",
       "    <tr>\n",
       "      <th>226</th>\n",
       "      <td>55</td>\n",
       "      <td>4</td>\n",
       "      <td>0.000453</td>\n",
       "    </tr>\n",
       "    <tr>\n",
       "      <th>13</th>\n",
       "      <td>20</td>\n",
       "      <td>1</td>\n",
       "      <td>0.000008</td>\n",
       "    </tr>\n",
       "    <tr>\n",
       "      <th>398</th>\n",
       "      <td>84</td>\n",
       "      <td>2</td>\n",
       "      <td>0.005517</td>\n",
       "    </tr>\n",
       "    <tr>\n",
       "      <th>83</th>\n",
       "      <td>31</td>\n",
       "      <td>5</td>\n",
       "      <td>0.000050</td>\n",
       "    </tr>\n",
       "  </tbody>\n",
       "</table>\n",
       "<p>1000000 rows × 3 columns</p>\n",
       "</div>"
      ],
      "text/plain": [
       "     age|int  dur|int  q_x|float\n",
       "13        20        1   0.000008\n",
       "338       74        2   0.002029\n",
       "570      113        0   0.067206\n",
       "428       89        2   0.009095\n",
       "182       48        2   0.000151\n",
       "..       ...      ...        ...\n",
       "404       85        2   0.006097\n",
       "226       55        4   0.000453\n",
       "13        20        1   0.000008\n",
       "398       84        2   0.005517\n",
       "83        31        5   0.000050\n",
       "\n",
       "[1000000 rows x 3 columns]"
      ]
     },
     "execution_count": 7,
     "metadata": {},
     "output_type": "execute_result"
    }
   ],
   "source": [
    "# as a test, we can check that the table completes itself\n",
    "df_mort = qx_table.df.sample(n=1_000_000, replace=True) # sample 1m points from the dataframe\n",
    "df_mort"
   ]
  },
  {
   "cell_type": "code",
   "execution_count": 24,
   "id": "aa61c258-50cd-43d4-bed0-01b94f33dd82",
   "metadata": {},
   "outputs": [
    {
     "data": {
      "text/html": [
       "<div>\n",
       "<style scoped>\n",
       "    .dataframe tbody tr th:only-of-type {\n",
       "        vertical-align: middle;\n",
       "    }\n",
       "\n",
       "    .dataframe tbody tr th {\n",
       "        vertical-align: top;\n",
       "    }\n",
       "\n",
       "    .dataframe thead th {\n",
       "        text-align: right;\n",
       "    }\n",
       "</style>\n",
       "<table border=\"1\" class=\"dataframe\">\n",
       "  <thead>\n",
       "    <tr style=\"text-align: right;\">\n",
       "      <th></th>\n",
       "      <th>age|int</th>\n",
       "      <th>dur|int</th>\n",
       "      <th>q_x|float</th>\n",
       "      <th>table_val</th>\n",
       "    </tr>\n",
       "  </thead>\n",
       "  <tbody>\n",
       "    <tr>\n",
       "      <th>404</th>\n",
       "      <td>85</td>\n",
       "      <td>2</td>\n",
       "      <td>0.006097</td>\n",
       "      <td>0.006097</td>\n",
       "    </tr>\n",
       "    <tr>\n",
       "      <th>226</th>\n",
       "      <td>55</td>\n",
       "      <td>4</td>\n",
       "      <td>0.000453</td>\n",
       "      <td>0.000453</td>\n",
       "    </tr>\n",
       "    <tr>\n",
       "      <th>13</th>\n",
       "      <td>20</td>\n",
       "      <td>1</td>\n",
       "      <td>0.000008</td>\n",
       "      <td>0.000008</td>\n",
       "    </tr>\n",
       "    <tr>\n",
       "      <th>398</th>\n",
       "      <td>84</td>\n",
       "      <td>2</td>\n",
       "      <td>0.005517</td>\n",
       "      <td>0.005517</td>\n",
       "    </tr>\n",
       "    <tr>\n",
       "      <th>83</th>\n",
       "      <td>31</td>\n",
       "      <td>5</td>\n",
       "      <td>0.000050</td>\n",
       "      <td>0.000050</td>\n",
       "    </tr>\n",
       "  </tbody>\n",
       "</table>\n",
       "</div>"
      ],
      "text/plain": [
       "     age|int  dur|int  q_x|float  table_val\n",
       "404       85        2   0.006097   0.006097\n",
       "226       55        4   0.000453   0.000453\n",
       "13        20        1   0.000008   0.000008\n",
       "398       84        2   0.005517   0.005517\n",
       "83        31        5   0.000050   0.000050"
      ]
     },
     "execution_count": 24,
     "metadata": {},
     "output_type": "execute_result"
    }
   ],
   "source": [
    "# pandas Series (columns) can be parsed as numpy arrays (albeit a little more slowly than grabbing .values)\n",
    "df_mort['table_val'] = qx_table[df_mort['age|int'], df_mort['dur|int']]\n",
    "df_mort.tail(5)"
   ]
  },
  {
   "cell_type": "code",
   "execution_count": 9,
   "id": "47782800-876e-4ecb-a7b6-61f6b2a1b353",
   "metadata": {},
   "outputs": [
    {
     "data": {
      "text/plain": [
       "True"
      ]
     },
     "execution_count": 9,
     "metadata": {},
     "output_type": "execute_result"
    }
   ],
   "source": [
    "# check the values are the same\n",
    "np.allclose(df_mort['q_x|float'], df_mort['table_val'])"
   ]
  },
  {
   "cell_type": "code",
   "execution_count": 25,
   "id": "af09619a-7713-426c-b979-9f25e4709bf7",
   "metadata": {},
   "outputs": [
    {
     "name": "stdout",
     "output_type": "stream",
     "text": [
      "3.97 ms ± 22.9 µs per loop (mean ± std. dev. of 7 runs, 100 loops each)\n"
     ]
    }
   ],
   "source": [
    "%timeit qx_table[df_mort['age|int'].values, df_mort['dur|int'].values]"
   ]
  },
  {
   "cell_type": "code",
   "execution_count": 27,
   "id": "9afa00df-f15e-459f-8a82-b0a85524a873",
   "metadata": {},
   "outputs": [
    {
     "name": "stdout",
     "output_type": "stream",
     "text": [
      "5.83 ms ± 27.5 µs per loop (mean ± std. dev. of 7 runs, 100 loops each)\n"
     ]
    }
   ],
   "source": [
    "# there is a little bit more overhead if accessing the Series rather than the array (as it needs converted)\n",
    "%timeit qx_table[df_mort['age|int'], df_mort['dur|int']]"
   ]
  },
  {
   "cell_type": "markdown",
   "id": "9057c887-cd75-4a72-8c36-62c77f800033",
   "metadata": {},
   "source": [
    "This overhead could be reduced by checking if the input data is `pandas.Series`, and then grabbing `.values`. "
   ]
  },
  {
   "cell_type": "markdown",
   "id": "b18c9028-ad8e-4784-a013-22d4ceed31b0",
   "metadata": {},
   "source": [
    "## Loading a Table with Various Keys"
   ]
  },
  {
   "cell_type": "code",
   "execution_count": 28,
   "id": "4e782843-012b-4845-8b65-95a907238a23",
   "metadata": {},
   "outputs": [],
   "source": [
    "#sib = string int band keys\n",
    "tab_sib = heavytables.Table.read_csv('csv_tables/table_str_int_band.csv')"
   ]
  },
  {
   "cell_type": "code",
   "execution_count": 29,
   "id": "80be102c-d7ab-4065-acc5-12066ab3506e",
   "metadata": {},
   "outputs": [
    {
     "data": {
      "text/html": [
       "<div>\n",
       "<style scoped>\n",
       "    .dataframe tbody tr th:only-of-type {\n",
       "        vertical-align: middle;\n",
       "    }\n",
       "\n",
       "    .dataframe tbody tr th {\n",
       "        vertical-align: top;\n",
       "    }\n",
       "\n",
       "    .dataframe thead th {\n",
       "        text-align: right;\n",
       "    }\n",
       "</style>\n",
       "<table border=\"1\" class=\"dataframe\">\n",
       "  <thead>\n",
       "    <tr style=\"text-align: right;\">\n",
       "      <th></th>\n",
       "      <th>product|str</th>\n",
       "      <th>year|int</th>\n",
       "      <th>fund_to|band</th>\n",
       "      <th>value|float</th>\n",
       "    </tr>\n",
       "  </thead>\n",
       "  <tbody>\n",
       "    <tr>\n",
       "      <th>0</th>\n",
       "      <td>ABC</td>\n",
       "      <td>2023</td>\n",
       "      <td>10000</td>\n",
       "      <td>2.76</td>\n",
       "    </tr>\n",
       "    <tr>\n",
       "      <th>7</th>\n",
       "      <td>DEFG</td>\n",
       "      <td>2023</td>\n",
       "      <td>10000</td>\n",
       "      <td>3.68</td>\n",
       "    </tr>\n",
       "    <tr>\n",
       "      <th>14</th>\n",
       "      <td>IJKLM</td>\n",
       "      <td>2023</td>\n",
       "      <td>10000</td>\n",
       "      <td>4.61</td>\n",
       "    </tr>\n",
       "    <tr>\n",
       "      <th>21</th>\n",
       "      <td>ABC</td>\n",
       "      <td>2024</td>\n",
       "      <td>10000</td>\n",
       "      <td>5.53</td>\n",
       "    </tr>\n",
       "    <tr>\n",
       "      <th>28</th>\n",
       "      <td>DEFG</td>\n",
       "      <td>2024</td>\n",
       "      <td>10000</td>\n",
       "      <td>7.37</td>\n",
       "    </tr>\n",
       "    <tr>\n",
       "      <th>...</th>\n",
       "      <td>...</td>\n",
       "      <td>...</td>\n",
       "      <td>...</td>\n",
       "      <td>...</td>\n",
       "    </tr>\n",
       "    <tr>\n",
       "      <th>34</th>\n",
       "      <td>DEFG</td>\n",
       "      <td>2024</td>\n",
       "      <td>99999999999</td>\n",
       "      <td>20.26</td>\n",
       "    </tr>\n",
       "    <tr>\n",
       "      <th>41</th>\n",
       "      <td>IJKLM</td>\n",
       "      <td>2024</td>\n",
       "      <td>99999999999</td>\n",
       "      <td>25.33</td>\n",
       "    </tr>\n",
       "    <tr>\n",
       "      <th>48</th>\n",
       "      <td>ABC</td>\n",
       "      <td>2025</td>\n",
       "      <td>99999999999</td>\n",
       "      <td>22.80</td>\n",
       "    </tr>\n",
       "    <tr>\n",
       "      <th>55</th>\n",
       "      <td>DEFG</td>\n",
       "      <td>2025</td>\n",
       "      <td>99999999999</td>\n",
       "      <td>30.39</td>\n",
       "    </tr>\n",
       "    <tr>\n",
       "      <th>62</th>\n",
       "      <td>IJKLM</td>\n",
       "      <td>2025</td>\n",
       "      <td>99999999999</td>\n",
       "      <td>37.99</td>\n",
       "    </tr>\n",
       "  </tbody>\n",
       "</table>\n",
       "<p>63 rows × 4 columns</p>\n",
       "</div>"
      ],
      "text/plain": [
       "   product|str  year|int  fund_to|band  value|float\n",
       "0          ABC      2023         10000         2.76\n",
       "7         DEFG      2023         10000         3.68\n",
       "14       IJKLM      2023         10000         4.61\n",
       "21         ABC      2024         10000         5.53\n",
       "28        DEFG      2024         10000         7.37\n",
       "..         ...       ...           ...          ...\n",
       "34        DEFG      2024   99999999999        20.26\n",
       "41       IJKLM      2024   99999999999        25.33\n",
       "48         ABC      2025   99999999999        22.80\n",
       "55        DEFG      2025   99999999999        30.39\n",
       "62       IJKLM      2025   99999999999        37.99\n",
       "\n",
       "[63 rows x 4 columns]"
      ]
     },
     "execution_count": 29,
     "metadata": {},
     "output_type": "execute_result"
    }
   ],
   "source": [
    "tab_sib.df"
   ]
  },
  {
   "cell_type": "markdown",
   "id": "61fb1f37-158c-48ea-bc27-7b4062ebf016",
   "metadata": {},
   "source": [
    "This table has a string column, year column and band column.\n",
    "\n",
    "The band column looks up values up to and including that band value, e.g. 5000 -> 10000"
   ]
  },
  {
   "cell_type": "code",
   "execution_count": 30,
   "id": "b63d0db2-cb27-4c95-a218-21520c33255c",
   "metadata": {},
   "outputs": [
    {
     "data": {
      "text/plain": [
       "2.76"
      ]
     },
     "execution_count": 30,
     "metadata": {},
     "output_type": "execute_result"
    }
   ],
   "source": [
    "tab_sib['ABC', 2023, 5000]"
   ]
  },
  {
   "cell_type": "code",
   "execution_count": 32,
   "id": "18c45b4c-f6e5-4fd1-9eee-791677352917",
   "metadata": {},
   "outputs": [
    {
     "data": {
      "text/plain": [
       "array([3.680000, 3.040000, 8.100000])"
      ]
     },
     "execution_count": 32,
     "metadata": {},
     "output_type": "execute_result"
    }
   ],
   "source": [
    "# again we can used vectorised\n",
    "products = np.array(['DEFG', 'ABC', 'DEFG'])\n",
    "years = np.array([2023, 2023, 2024])\n",
    "funds = np.array([5000, 15000, 25000])\n",
    "tab_sib[products, years, funds]"
   ]
  },
  {
   "cell_type": "code",
   "execution_count": 34,
   "id": "79381887-9090-4cc2-850e-7ec3ad84271a",
   "metadata": {},
   "outputs": [
    {
     "data": {
      "text/plain": [
       "array([2.760000, 3.040000, 3.040000])"
      ]
     },
     "execution_count": 34,
     "metadata": {},
     "output_type": "execute_result"
    }
   ],
   "source": [
    "# we can mix arrays and scalars\n",
    "tab_sib['ABC', 2023, funds]"
   ]
  },
  {
   "cell_type": "code",
   "execution_count": 41,
   "id": "692e67f1-0b2d-42a7-a1fd-b66e5dfa0c84",
   "metadata": {},
   "outputs": [
    {
     "data": {
      "text/plain": [
       "Text(0.5, 1.0, 'Plot of Fund Value against Table Output')"
      ]
     },
     "execution_count": 41,
     "metadata": {},
     "output_type": "execute_result"
    },
    {
     "data": {
      "image/png": "[encoded data removed]",
      "text/plain": [
       "<Figure size 640x480 with 1 Axes>"
      ]
     },
     "metadata": {},
     "output_type": "display_data"
    }
   ],
   "source": [
    "# plotting these\n",
    "funds_range = np.linspace(0, 200_000, 10_000)\n",
    "tab_sib_vals = tab_sib['ABC', 2023, funds_range]\n",
    "ax = sns.lineplot(x=funds_range, y=tab_sib_vals)\n",
    "ax.set_title('Plot of Fund Value against Table Output')"
   ]
  },
  {
   "cell_type": "code",
   "execution_count": 48,
   "id": "766503d3-7fd9-4ee4-853a-266db07e03cf",
   "metadata": {},
   "outputs": [],
   "source": [
    "rng = np.random.default_rng(seed=42)"
   ]
  },
  {
   "cell_type": "code",
   "execution_count": 50,
   "id": "39bf883a-ff43-4a97-8cac-ec48f11c7dec",
   "metadata": {},
   "outputs": [
    {
     "data": {
      "text/html": [
       "<div>\n",
       "<style scoped>\n",
       "    .dataframe tbody tr th:only-of-type {\n",
       "        vertical-align: middle;\n",
       "    }\n",
       "\n",
       "    .dataframe tbody tr th {\n",
       "        vertical-align: top;\n",
       "    }\n",
       "\n",
       "    .dataframe thead th {\n",
       "        text-align: right;\n",
       "    }\n",
       "</style>\n",
       "<table border=\"1\" class=\"dataframe\">\n",
       "  <thead>\n",
       "    <tr style=\"text-align: right;\">\n",
       "      <th></th>\n",
       "      <th>product|str</th>\n",
       "      <th>year|int</th>\n",
       "      <th>fund_value</th>\n",
       "    </tr>\n",
       "  </thead>\n",
       "  <tbody>\n",
       "    <tr>\n",
       "      <th>28</th>\n",
       "      <td>DEFG</td>\n",
       "      <td>2024</td>\n",
       "      <td>35091.439231</td>\n",
       "    </tr>\n",
       "    <tr>\n",
       "      <th>11</th>\n",
       "      <td>DEFG</td>\n",
       "      <td>2023</td>\n",
       "      <td>94990.098619</td>\n",
       "    </tr>\n",
       "    <tr>\n",
       "      <th>55</th>\n",
       "      <td>DEFG</td>\n",
       "      <td>2025</td>\n",
       "      <td>62995.584420</td>\n",
       "    </tr>\n",
       "    <tr>\n",
       "      <th>54</th>\n",
       "      <td>DEFG</td>\n",
       "      <td>2025</td>\n",
       "      <td>93038.829790</td>\n",
       "    </tr>\n",
       "    <tr>\n",
       "      <th>46</th>\n",
       "      <td>ABC</td>\n",
       "      <td>2025</td>\n",
       "      <td>84600.190343</td>\n",
       "    </tr>\n",
       "    <tr>\n",
       "      <th>...</th>\n",
       "      <td>...</td>\n",
       "      <td>...</td>\n",
       "      <td>...</td>\n",
       "    </tr>\n",
       "    <tr>\n",
       "      <th>24</th>\n",
       "      <td>ABC</td>\n",
       "      <td>2024</td>\n",
       "      <td>57298.935372</td>\n",
       "    </tr>\n",
       "    <tr>\n",
       "      <th>0</th>\n",
       "      <td>ABC</td>\n",
       "      <td>2023</td>\n",
       "      <td>33081.832387</td>\n",
       "    </tr>\n",
       "    <tr>\n",
       "      <th>61</th>\n",
       "      <td>IJKLM</td>\n",
       "      <td>2025</td>\n",
       "      <td>81421.495254</td>\n",
       "    </tr>\n",
       "    <tr>\n",
       "      <th>6</th>\n",
       "      <td>ABC</td>\n",
       "      <td>2023</td>\n",
       "      <td>37927.772495</td>\n",
       "    </tr>\n",
       "    <tr>\n",
       "      <th>10</th>\n",
       "      <td>DEFG</td>\n",
       "      <td>2023</td>\n",
       "      <td>26607.134857</td>\n",
       "    </tr>\n",
       "  </tbody>\n",
       "</table>\n",
       "<p>1000000 rows × 3 columns</p>\n",
       "</div>"
      ],
      "text/plain": [
       "   product|str  year|int    fund_value\n",
       "28        DEFG      2024  35091.439231\n",
       "11        DEFG      2023  94990.098619\n",
       "55        DEFG      2025  62995.584420\n",
       "54        DEFG      2025  93038.829790\n",
       "46         ABC      2025  84600.190343\n",
       "..         ...       ...           ...\n",
       "24         ABC      2024  57298.935372\n",
       "0          ABC      2023  33081.832387\n",
       "61       IJKLM      2025  81421.495254\n",
       "6          ABC      2023  37927.772495\n",
       "10        DEFG      2023  26607.134857\n",
       "\n",
       "[1000000 rows x 3 columns]"
      ]
     },
     "execution_count": 50,
     "metadata": {},
     "output_type": "execute_result"
    }
   ],
   "source": [
    "# performance of this table\n",
    "\n",
    "tab_sib_test = tab_sib.df.sample(1_000_000, replace=True).iloc[:,[0,1]]\n",
    "tab_sib_test['fund_value'] = rng.gamma(4, 20_000, 1_000_000)\n",
    "tab_sib_test"
   ]
  },
  {
   "cell_type": "code",
   "execution_count": 68,
   "id": "2a62edd3-5a67-4d1d-ac08-0ddea6e432a0",
   "metadata": {},
   "outputs": [
    {
     "data": {
      "text/plain": [
       "array([8.660000, 4.690000, 14.080000, ..., 17.600000, 3.250000, 4.330000])"
      ]
     },
     "execution_count": 68,
     "metadata": {},
     "output_type": "execute_result"
    }
   ],
   "source": [
    "tab_sib[\n",
    "    tab_sib_test.iloc[:,0].values,\n",
    "    tab_sib_test.iloc[:,1].values,\n",
    "    tab_sib_test.iloc[:,2].values\n",
    "]"
   ]
  },
  {
   "cell_type": "code",
   "execution_count": 70,
   "id": "4ccf0997-ce93-453c-abfb-5507c12635ba",
   "metadata": {},
   "outputs": [
    {
     "name": "stdout",
     "output_type": "stream",
     "text": [
      "72.4 ms ± 53.2 µs per loop (mean ± std. dev. of 7 runs, 10 loops each)\n"
     ]
    }
   ],
   "source": [
    "%timeit tab_sib[ \\\n",
    "    tab_sib_test.iloc[:,0].values,\\\n",
    "    tab_sib_test.iloc[:,1].values,\\\n",
    "    tab_sib_test.iloc[:,2].values\\\n",
    "]"
   ]
  },
  {
   "cell_type": "code",
   "execution_count": null,
   "id": "b89e8e4a-9611-4388-a282-2d383be76800",
   "metadata": {},
   "outputs": [],
   "source": []
  }
 ],
 "metadata": {
  "kernelspec": {
   "display_name": "Python 3 (ipykernel)",
   "language": "python",
   "name": "python3"
  },
  "language_info": {
   "codemirror_mode": {
    "name": "ipython",
    "version": 3
   },
   "file_extension": ".py",
   "mimetype": "text/x-python",
   "name": "python",
   "nbconvert_exporter": "python",
   "pygments_lexer": "ipython3",
   "version": "3.12.2"
  }
 },
 "nbformat": 4,
 "nbformat_minor": 5
}
